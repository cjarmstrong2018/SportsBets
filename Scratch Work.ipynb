{
 "cells": [
  {
   "cell_type": "code",
   "execution_count": 3,
   "metadata": {},
   "outputs": [],
   "source": [
    "from oddsapi import OddsApiClient\n",
    "import requests\n",
    "import json\n",
    "import pandas as pd\n",
    "import numpy as np\n",
    "from datetime import datetime as dt\n",
    "import os\n",
    "\n",
    "client = OddsApiClient(api_key=key)\n"
   ]
  },
  {
   "cell_type": "code",
   "execution_count": 4,
   "metadata": {},
   "outputs": [
    {
     "data": {
      "text/plain": [
       "200"
      ]
     },
     "execution_count": 4,
     "metadata": {},
     "output_type": "execute_result"
    }
   ],
   "source": [
    "url = \"https://api.the-odds-api.com\"\n",
    "ext = \"/v3/sports/\"\n",
    "params = {\"apiKey\": key}\n",
    "r = requests.get(url=url + ext, params=params)\n",
    "r.status_code"
   ]
  },
  {
   "cell_type": "code",
   "execution_count": null,
   "metadata": {},
   "outputs": [],
   "source": [
    "r.content\n",
    "sports = json.loads(r.text)\n",
    "sports['data'][0]\n",
    "for i in sports['data']:\n",
    "    print(i['title'], i['active'])"
   ]
  },
  {
   "cell_type": "code",
   "execution_count": 22,
   "metadata": {},
   "outputs": [],
   "source": [
    "\n",
    "url = \"https://api.the-odds-api.com\"\n",
    "req = f\"/v3/odds/\"\n",
    "params = {\n",
    "    \"apiKey\": key,\n",
    "    \"sport\" :'baseball_mlb',\n",
    "\"region\" :'us',\n",
    "'mkt':'h2h',\n",
    "'oddsFormat': 'american' \n",
    "}\n",
    "odds_req = requests.get(url + req, params=params)"
   ]
  },
  {
   "cell_type": "code",
   "execution_count": 24,
   "metadata": {},
   "outputs": [
    {
     "name": "stdout",
     "output_type": "stream",
     "text": [
      "15\n"
     ]
    }
   ],
   "source": [
    "odds = json.loads(odds_req.text)\n",
    "odds = odds['data']\n",
    "# odds = odds[0]\n",
    "arb = []\n",
    "for game in odds:\n",
    "    if dt.now() > dt.fromtimestamp(game['commence_time']):\n",
    "        continue\n",
    "    g = Game(game)\n",
    "    if g.arb_exists():\n",
    "        print(f\"Arb exists for {g.away} @ {g.home} at {g.start_time}! Secure that bag!\")\n",
    "        arb.append(game)\n",
    "print(len(odds))\n",
    "for game in arb:\n",
    "    print(game.beat_bookies())\n"
   ]
  },
  {
   "cell_type": "code",
   "execution_count": null,
   "metadata": {},
   "outputs": [],
   "source": [
    "class Odds(object):\n",
    "    '''\n",
    "    Object to get data from OddsApi request,\n",
    "    and parse using Game objects.\n",
    "    '''\n",
    "\n",
    "    def __init__(self, sport):\n",
    "        self.__api_key = os.getenv('api_key')\n",
    "        base_url = \"https://api.the-odds-api.com\"\n",
    "        odds_endpoint = f\"/v3/odds/\"\n",
    "        params = {\n",
    "            \"apiKey\": self.__api_key,\n",
    "            \"sport\" :'baseball_mlb',\n",
    "            \"region\" :'us',\n",
    "            'mkt':'h2h',\n",
    "            'oddsFormat': 'american'\n",
    "        }\n",
    "        odds_req = requests.get(url + req, params=params)\n",
    "        odds = json.loads(odds_req.text)\n",
    "        odds = odds['data']\n",
    "        self.games = []\n",
    "        for game in odds:\n",
    "            g = Game(game)\n",
    "            self.games.append(g)\n",
    "        \n",
    "\n",
    "    \n",
    "class OddsLogger(Odds):\n",
    "    \"\"\"\n",
    "    Object to automatically odds for backtesting purposes. \n",
    "\n",
    "    Args:\n",
    "        sport (str): the sport to log the odds on the sportsbooks. Development to come\n",
    "    \"\"\""
   ]
  },
  {
   "cell_type": "code",
   "execution_count": 17,
   "metadata": {},
   "outputs": [
    {
     "name": "stdout",
     "output_type": "stream",
     "text": [
      "<class 'sympy.core.numbers.Integer'> <class 'sympy.core.numbers.Integer'>\n"
     ]
    },
    {
     "data": {
      "text/plain": [
       "{'Detroit Tigers stake': 29500,\n",
       " 'New York Yankees stake': -29000,\n",
       " 'Profit1': 8554500,\n",
       " 'Profit2': 8554500,\n",
       " 'Benefit1': '1710900%',\n",
       " 'Benefit2': '1710900%'}"
      ]
     },
     "execution_count": 17,
     "metadata": {},
     "output_type": "execute_result"
    }
   ],
   "source": [
    "from fractions import Fraction\n",
    "from sympy import symbols, Eq, solve\n",
    "MY_SPORTSBOOKS = ['Barstool Sportsbook', 'DraftKings', \"BetMGM\", 'BetRivers', 'FanDuel', 'PointsBet (US)', 'William Hill (Ceasars)']\n",
    "\n",
    "class Game(object):\n",
    "    '''\n",
    "    Object used to organize data from OddsAPI client \n",
    "    for processing later\n",
    "    Inputs:\n",
    "        data - (dict) data from OddsAPI response. \n",
    "        Must include: 'sports_key', 'teams', 'home_team', \n",
    "                    'sites'\n",
    "\n",
    "    '''\n",
    "    def __init__(self, data):\n",
    "        self.sport = data['sport_nice']\n",
    "        self.teams = data['teams']\n",
    "        self.home = data['home_team']\n",
    "        for team in self.teams:\n",
    "            if team != self.home:\n",
    "                self.away = team\n",
    "        self.h2h_odds = {}\n",
    "        for site in data['sites']:\n",
    "            site_name = site['site_nice']\n",
    "            self.h2h_odds[site_name] = site['odds']['h2h']\n",
    "        # self.h2h_odds = pd.DataFrame(self.h2h_odds).T\n",
    "        # self.h2h_odds.columns = self.teams\n",
    "        self.start_time = dt.fromtimestamp(int(data['commence_time']))\n",
    "        self.num_sites = ['sites_count']\n",
    "        self.best_bettable_odds()\n",
    "    \n",
    "    def __repr__(self):\n",
    "        return f\"Game object for {self.away} @ {self.home} on {self.start_time}\"\n",
    "\n",
    "    def best_bettable_odds(self):\n",
    "        '''\n",
    "        Iterates through the odds and finds the best odds on both sides \n",
    "        Currently only supports games with no draws\n",
    "        '''\n",
    "        best_team1 = None\n",
    "        best_team1_site = None\n",
    "        best_team2 = None\n",
    "        best_team2_site = None\n",
    "        for site, odds in self.h2h_odds.items():\n",
    "            if site in MY_SPORTSBOOKS:\n",
    "                if not best_team1:\n",
    "                    best_team1 = odds[0]\n",
    "                    best_team1_site = site\n",
    "                    best_team2 = odds[1]\n",
    "                    best_team2_site = site\n",
    "                else:\n",
    "                    if odds[0] > best_team1:\n",
    "                        best_team1 = odds[0]\n",
    "                        best_team1_site = site\n",
    "                    if odds[1] > best_team2:\n",
    "                        best_team2 = odds[1]\n",
    "                        best_team2_site = site\n",
    "                self.best_odds = {\n",
    "                    f\"{self.teams[0]}\": (best_team1, best_team1_site),\n",
    "                    f\"{self.teams[1]}\": (best_team2, best_team2_site)\n",
    "                }\n",
    "        # print(self.best_odds)\n",
    "\n",
    "    def arb_exists(self):\n",
    "        sure_bet = 0\n",
    "        for odds in self.best_odds.values():\n",
    "            d_odds = Game.decimal_odds(odds[0])\n",
    "            sure_bet += 1 / d_odds\n",
    "        if sure_bet < 1:\n",
    "            return True\n",
    "        else:\n",
    "            return False\n",
    "\n",
    "    @staticmethod\n",
    "    def decimal_odds(odds: int) -> float:\n",
    "        \"\"\"\n",
    "        :param odds: Integer (e.g., -350) or String (e.g., '3/1' or '5/4').\n",
    "        :return: Float. Odds expressed in Decimal terms.\n",
    "        \"\"\"\n",
    "        if isinstance(odds, float):\n",
    "            return odds\n",
    "\n",
    "        elif isinstance(odds, int):\n",
    "            if odds >= 100:\n",
    "                return abs(1 + (odds / 100))\n",
    "            elif odds <= -101 :\n",
    "                return 100 / abs(odds) + 1\n",
    "            else:\n",
    "                return float(odds)\n",
    "\n",
    "        elif \"/\" in odds:\n",
    "            odds = Fraction(odds)\n",
    "            return round((odds.numerator / odds.denominator) + 1, 2)\n",
    "        \n",
    "    def beat_bookies(self, total_stake):\n",
    "        odds1 = self.best_odds[self.teams[0]][0]\n",
    "        odds2 = self.best_odds[self.teams[1]][0]\n",
    "        x, y = symbols('x y')\n",
    "        eq1 = Eq(x + y - total_stake, 0) # total_stake = x + y\n",
    "        eq2 = Eq((odds2*y) - odds1*x, 0) # odds1*x = odds2*y\n",
    "        stakes = solve((eq1,eq2), (x, y))\n",
    "        total_investment = stakes[x] + stakes[y]\n",
    "        profit1 = odds1*stakes[x] - total_stake\n",
    "        profit2 = odds2*stakes[y] - total_stake\n",
    "        print(type(profit1), type(total_investment))\n",
    "        benefit1 = f'{round(profit1 / total_investment * 100,2)}%'\n",
    "        benefit2 = f'{round(profit2 / total_investment * 100,2)}%'\n",
    "        dict_gabmling = {f'{self.teams[0]} stake':stakes[x], f'{self.teams[1]} stake':stakes[y], 'Profit1':profit1, 'Profit2':profit2,\n",
    "                        'Benefit1': benefit1, 'Benefit2': benefit2}\n",
    "        return dict_gabmling\n",
    "\n",
    "        \n",
    "\n",
    "g = Game(odds)\n",
    "g.beat_bookies(500)"
   ]
  },
  {
   "cell_type": "code",
   "execution_count": 9,
   "metadata": {},
   "outputs": [
    {
     "data": {
      "text/plain": [
       "{'BetOnline.ag': [241, -270],\n",
       " 'MyBookie.ag': [245, -305],\n",
       " 'FOX Bet': [255, -357],\n",
       " 'DraftKings': [250, -350],\n",
       " 'WynnBET': [250, -278],\n",
       " 'GTbets': [267, -363],\n",
       " 'BetUS': [230, -280],\n",
       " 'William Hill (US)': [240, -280],\n",
       " 'Bovada': [260, -375],\n",
       " 'LowVig.ag': [241, -270],\n",
       " 'PointsBet (US)': [285, -375],\n",
       " 'FanDuel': [290, -410],\n",
       " 'BetMGM': [280, -400],\n",
       " 'Unibet': [280, -385],\n",
       " 'TwinSpires': [280, -385],\n",
       " 'BetRivers': [245, -295],\n",
       " 'SugarHouse': [280, -385],\n",
       " 'Barstool Sportsbook': [280, -385],\n",
       " 'Intertops': [240, -280],\n",
       " 'Betfair': [168, -588]}"
      ]
     },
     "execution_count": 9,
     "metadata": {},
     "output_type": "execute_result"
    }
   ],
   "source": [
    "g.h2h_odds"
   ]
  },
  {
   "cell_type": "code",
   "execution_count": 13,
   "metadata": {},
   "outputs": [
    {
     "ename": "TypeError",
     "evalue": "unsupported format string passed to Integer.__format__",
     "output_type": "error",
     "traceback": [
      "\u001b[1;31m---------------------------------------------------------------------------\u001b[0m",
      "\u001b[1;31mTypeError\u001b[0m                                 Traceback (most recent call last)",
      "\u001b[1;32m<ipython-input-13-8c3645dfd273>\u001b[0m in \u001b[0;36m<module>\u001b[1;34m\u001b[0m\n\u001b[0;32m      1\u001b[0m \u001b[1;31m# g.best_bettable_odds()\u001b[0m\u001b[1;33m\u001b[0m\u001b[1;33m\u001b[0m\u001b[1;33m\u001b[0m\u001b[0m\n\u001b[0;32m      2\u001b[0m \u001b[1;31m# g.arb_exists()\u001b[0m\u001b[1;33m\u001b[0m\u001b[1;33m\u001b[0m\u001b[1;33m\u001b[0m\u001b[0m\n\u001b[1;32m----> 3\u001b[1;33m \u001b[0mg\u001b[0m\u001b[1;33m.\u001b[0m\u001b[0mbeat_bookies\u001b[0m\u001b[1;33m(\u001b[0m\u001b[1;36m50\u001b[0m\u001b[1;33m)\u001b[0m\u001b[1;33m\u001b[0m\u001b[1;33m\u001b[0m\u001b[0m\n\u001b[0m",
      "\u001b[1;32m<ipython-input-11-1479d8ebd441>\u001b[0m in \u001b[0;36mbeat_bookies\u001b[1;34m(self, total_stake)\u001b[0m\n\u001b[0;32m    103\u001b[0m         \u001b[0mprofit1\u001b[0m \u001b[1;33m=\u001b[0m \u001b[0modds1\u001b[0m\u001b[1;33m*\u001b[0m\u001b[0mstakes\u001b[0m\u001b[1;33m[\u001b[0m\u001b[0mx\u001b[0m\u001b[1;33m]\u001b[0m \u001b[1;33m-\u001b[0m \u001b[0mtotal_stake\u001b[0m\u001b[1;33m\u001b[0m\u001b[1;33m\u001b[0m\u001b[0m\n\u001b[0;32m    104\u001b[0m         \u001b[0mprofit2\u001b[0m \u001b[1;33m=\u001b[0m \u001b[0modds2\u001b[0m\u001b[1;33m*\u001b[0m\u001b[0mstakes\u001b[0m\u001b[1;33m[\u001b[0m\u001b[0my\u001b[0m\u001b[1;33m]\u001b[0m \u001b[1;33m-\u001b[0m \u001b[0mtotal_stake\u001b[0m\u001b[1;33m\u001b[0m\u001b[1;33m\u001b[0m\u001b[0m\n\u001b[1;32m--> 105\u001b[1;33m         \u001b[0mbenefit1\u001b[0m \u001b[1;33m=\u001b[0m \u001b[1;34mf'{profit1 / total_investment * 100:.2f}%'\u001b[0m\u001b[1;33m\u001b[0m\u001b[1;33m\u001b[0m\u001b[0m\n\u001b[0m\u001b[0;32m    106\u001b[0m         \u001b[0mbenefit2\u001b[0m \u001b[1;33m=\u001b[0m \u001b[1;34mf'{profit2 / total_investment * 100:.2f}%'\u001b[0m\u001b[1;33m\u001b[0m\u001b[1;33m\u001b[0m\u001b[0m\n\u001b[0;32m    107\u001b[0m         dict_gabmling = {'Stake1':stakes[x], 'Stake2':stakes[y], 'Profit1':profit1, 'Profit2':profit2,\n",
      "\u001b[1;31mTypeError\u001b[0m: unsupported format string passed to Integer.__format__"
     ]
    }
   ],
   "source": [
    "# g.best_bettable_odds()\n",
    "# g.arb_exists()\n",
    "# g.beat_bookies(50)"
   ]
  }
 ],
 "metadata": {
  "interpreter": {
   "hash": "9e3bfd5707cea17bcbe380e30b983be31a9c4e73ed42697506103186bbe325e5"
  },
  "kernelspec": {
   "display_name": "Python 3.9.3 64-bit",
   "language": "python",
   "name": "python3"
  },
  "language_info": {
   "codemirror_mode": {
    "name": "ipython",
    "version": 3
   },
   "file_extension": ".py",
   "mimetype": "text/x-python",
   "name": "python",
   "nbconvert_exporter": "python",
   "pygments_lexer": "ipython3",
   "version": "3.9.3"
  },
  "orig_nbformat": 4
 },
 "nbformat": 4,
 "nbformat_minor": 2
}
