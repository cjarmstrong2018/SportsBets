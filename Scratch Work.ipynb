{
 "cells": [
  {
   "cell_type": "code",
   "execution_count": 1,
   "metadata": {},
   "outputs": [],
   "source": [
    "from oddsapi import OddsApiClient\n",
    "import requests\n",
    "import json\n",
    "import pandas as pd\n",
    "import numpy as np\n",
    "from datetime import datetime as dt\n",
    "\n",
    "key = \"018c7695b9df48c989f693897e9eeae3\"\n",
    "client = OddsApiClient(api_key=key)\n"
   ]
  },
  {
   "cell_type": "code",
   "execution_count": 2,
   "metadata": {},
   "outputs": [
    {
     "data": {
      "text/plain": [
       "200"
      ]
     },
     "execution_count": 2,
     "metadata": {},
     "output_type": "execute_result"
    }
   ],
   "source": [
    "url = \"https://api.the-odds-api.com\"\n",
    "ext = \"/v3/sports/\"\n",
    "params = {\"apiKey\": key}\n",
    "r = requests.get(url=url + ext, params=params)\n",
    "r.status_code"
   ]
  },
  {
   "cell_type": "code",
   "execution_count": null,
   "metadata": {},
   "outputs": [],
   "source": [
    "r.content\n",
    "sports = json.loads(r.text)\n",
    "sports['data'][0]\n",
    "for i in sports['data']:\n",
    "    print(i['title'], i['active'])"
   ]
  },
  {
   "cell_type": "code",
   "execution_count": 28,
   "metadata": {},
   "outputs": [],
   "source": [
    "\n",
    "url = \"https://api.the-odds-api.com\"\n",
    "req = f\"/v3/odds/\"\n",
    "params = {\n",
    "    \"apiKey\": key,\n",
    "    \"sport\" :'baseball_mlb',\n",
    "\"region\" :'us',\n",
    "'mkt':'h2h',\n",
    "'oddsFormat': 'american' \n",
    "}\n",
    "odds_req = requests.get(url + req, params=params)"
   ]
  },
  {
   "cell_type": "code",
   "execution_count": 29,
   "metadata": {},
   "outputs": [
    {
     "data": {
      "text/plain": [
       "{'id': 'a050d345eba4fb9557cb2035af72d5e8',\n",
       " 'sport_key': 'baseball_mlb',\n",
       " 'sport_nice': 'MLB',\n",
       " 'teams': ['Atlanta Braves', 'Colorado Rockies'],\n",
       " 'commence_time': 1654391380,\n",
       " 'home_team': 'Colorado Rockies',\n",
       " 'sites': [{'site_key': 'foxbet',\n",
       "   'site_nice': 'FOX Bet',\n",
       "   'last_update': 1654399668,\n",
       "   'odds': {'h2h': [-110, -120]}},\n",
       "  {'site_key': 'fanduel',\n",
       "   'site_nice': 'FanDuel',\n",
       "   'last_update': 1654399682,\n",
       "   'odds': {'h2h': [112, -142]}},\n",
       "  {'site_key': 'draftkings',\n",
       "   'site_nice': 'DraftKings',\n",
       "   'last_update': 1654399681,\n",
       "   'odds': {'h2h': [115, -145]}},\n",
       "  {'site_key': 'bovada',\n",
       "   'site_nice': 'Bovada',\n",
       "   'last_update': 1654399714,\n",
       "   'odds': {'h2h': [-125, -105]}},\n",
       "  {'site_key': 'pointsbetus',\n",
       "   'site_nice': 'PointsBet (US)',\n",
       "   'last_update': 1654399680,\n",
       "   'odds': {'h2h': [105, -125]}},\n",
       "  {'site_key': 'barstool',\n",
       "   'site_nice': 'Barstool Sportsbook',\n",
       "   'last_update': 1654399711,\n",
       "   'odds': {'h2h': [115, -148]}},\n",
       "  {'site_key': 'twinspires',\n",
       "   'site_nice': 'TwinSpires',\n",
       "   'last_update': 1654399695,\n",
       "   'odds': {'h2h': [104, -132]}},\n",
       "  {'site_key': 'unibet',\n",
       "   'site_nice': 'Unibet',\n",
       "   'last_update': 1654399711,\n",
       "   'odds': {'h2h': [115, -147]}},\n",
       "  {'site_key': 'sugarhouse',\n",
       "   'site_nice': 'SugarHouse',\n",
       "   'last_update': 1654399692,\n",
       "   'odds': {'h2h': [104, -132]}},\n",
       "  {'site_key': 'betmgm',\n",
       "   'site_nice': 'BetMGM',\n",
       "   'last_update': 1654399717,\n",
       "   'odds': {'h2h': [105, -135]}},\n",
       "  {'site_key': 'gtbets',\n",
       "   'site_nice': 'GTbets',\n",
       "   'last_update': 1654399690,\n",
       "   'odds': {'h2h': [-113, -113]}},\n",
       "  {'site_key': 'betfair',\n",
       "   'site_nice': 'Betfair',\n",
       "   'last_update': 1654399678,\n",
       "   'odds': {'h2h': [-115, -115], 'h2h_lay': [116, 116]}}],\n",
       " 'sites_count': 12}"
      ]
     },
     "execution_count": 29,
     "metadata": {},
     "output_type": "execute_result"
    }
   ],
   "source": [
    "odds = json.loads(odds_req.text)\n",
    "odds = odds['data']\n",
    "odds = odds[0]\n",
    "odds\n"
   ]
  },
  {
   "cell_type": "code",
   "execution_count": 50,
   "metadata": {},
   "outputs": [],
   "source": [
    "from fractions import Fraction\n",
    "MY_SPORTSBOOKS = ['Barstool Sportsbook', 'DraftKings', \"BetMGM\", 'BetRivers', 'FanDuel', 'PointsBet (US)', 'William Hill (Ceasars)']\n",
    "\n",
    "class Game(object):\n",
    "    '''\n",
    "    Object used to organize data from OddsAPI client \n",
    "    for processing later\n",
    "    Inputs:\n",
    "        data - (dict) data from OddsAPI response. \n",
    "        Must include: 'sports_key', 'teams', 'home_team', \n",
    "                    'sites'\n",
    "\n",
    "    '''\n",
    "    def __init__(self, data):\n",
    "        self.sport = data['sport_nice']\n",
    "        self.teams = data['teams']\n",
    "        self.home = data['home_team']\n",
    "        for team in self.teams:\n",
    "            if team != self.home:\n",
    "                self.away = team\n",
    "        self.h2h_odds = {}\n",
    "        for site in data['sites']:\n",
    "            site_name = site['site_nice']\n",
    "            self.h2h_odds[site_name] = site['odds']['h2h']\n",
    "        # self.h2h_odds = pd.DataFrame(self.h2h_odds).T\n",
    "        # self.h2h_odds.columns = self.teams\n",
    "        self.start_time = dt.fromtimestamp(int(data['commence_time']))\n",
    "        self.num_sites = ['sites_count']\n",
    "    \n",
    "    def __repr__(self):\n",
    "        return f\"Game object for {self.away} @ {self.home} on {self.start_time}\"\n",
    "\n",
    "    def best_bettable_odds(self):\n",
    "        '''\n",
    "        Iterates through the odds and finds the best odds on both sides \n",
    "        Currently only supports games with no draws\n",
    "        '''\n",
    "        best_team1 = None\n",
    "        best_team1_site = None\n",
    "        best_team2 = None\n",
    "        best_team2_site = None\n",
    "        for site, odds in self.h2h_odds.items():\n",
    "            if site in MY_SPORTSBOOKS:\n",
    "                if not best_team1:\n",
    "                    best_team1 = odds[0]\n",
    "                    best_team1_site = site\n",
    "                    best_team2 = odds[1]\n",
    "                    best_team2_site = site\n",
    "                else:\n",
    "                    if odds[0] > best_team1:\n",
    "                        best_team1 = odds[0]\n",
    "                        best_team1_site = site\n",
    "                    if odds[1] > best_team2:\n",
    "                        best_team2 = odds[1]\n",
    "                        best_team2_site = site\n",
    "        return [(self.teams[0], best_team1_site, best_team1), (self.teams[1], best_team2_site, best_team2)]\n",
    "\n",
    "    def arb_exists(self):\n",
    "        best_odds = self.best_bettable_odds()\n",
    "        decimal_1 = Game.decimal_odds(odds = best_odds[0][-1])\n",
    "        decimal_2 = Game.decimal_odds(odds = best_odds[1][-1])\n",
    "        surebet = 1/decimal_1 + 1/decimal_2\n",
    "        if surebet < 1:\n",
    "            return True\n",
    "        else:\n",
    "            return False\n",
    "\n",
    "    @staticmethod\n",
    "    def decimal_odds(odds: int) -> float:\n",
    "        \"\"\"\n",
    "        :param odds: Integer (e.g., -350) or String (e.g., '3/1' or '5/4').\n",
    "        :return: Float. Odds expressed in Decimal terms.\n",
    "        \"\"\"\n",
    "        if isinstance(odds, float):\n",
    "            return odds\n",
    "\n",
    "        elif isinstance(odds, int):\n",
    "            if odds >= 100:\n",
    "                return abs(1 + (odds / 100))\n",
    "            elif odds <= -101 :\n",
    "                return 100 / abs(odds) + 1\n",
    "            else:\n",
    "                return float(odds)\n",
    "\n",
    "        elif \"/\" in odds:\n",
    "            odds = Fraction(odds)\n",
    "            return round((odds.numerator / odds.denominator) + 1, 2)\n",
    "        \n",
    "\n",
    "        \n",
    "\n",
    "g = Game(odds)"
   ]
  },
  {
   "cell_type": "code",
   "execution_count": 38,
   "metadata": {},
   "outputs": [
    {
     "data": {
      "text/plain": [
       "{'FOX Bet': [-110, -120],\n",
       " 'FanDuel': [112, -142],\n",
       " 'DraftKings': [115, -145],\n",
       " 'Bovada': [-125, -105],\n",
       " 'PointsBet (US)': [105, -125],\n",
       " 'Barstool Sportsbook': [115, -148],\n",
       " 'TwinSpires': [104, -132],\n",
       " 'Unibet': [115, -147],\n",
       " 'SugarHouse': [104, -132],\n",
       " 'BetMGM': [105, -135],\n",
       " 'GTbets': [-113, -113],\n",
       " 'Betfair': [-115, -115]}"
      ]
     },
     "execution_count": 38,
     "metadata": {},
     "output_type": "execute_result"
    }
   ],
   "source": [
    "g.h2h_odds"
   ]
  },
  {
   "cell_type": "code",
   "execution_count": 51,
   "metadata": {},
   "outputs": [
    {
     "data": {
      "text/plain": [
       "False"
      ]
     },
     "execution_count": 51,
     "metadata": {},
     "output_type": "execute_result"
    }
   ],
   "source": [
    "g.best_bettable_odds()\n",
    "g.arb_exists()"
   ]
  }
 ],
 "metadata": {
  "interpreter": {
   "hash": "9e3bfd5707cea17bcbe380e30b983be31a9c4e73ed42697506103186bbe325e5"
  },
  "kernelspec": {
   "display_name": "Python 3.9.3 64-bit",
   "language": "python",
   "name": "python3"
  },
  "language_info": {
   "codemirror_mode": {
    "name": "ipython",
    "version": 3
   },
   "file_extension": ".py",
   "mimetype": "text/x-python",
   "name": "python",
   "nbconvert_exporter": "python",
   "pygments_lexer": "ipython3",
   "version": "3.9.3"
  },
  "orig_nbformat": 4
 },
 "nbformat": 4,
 "nbformat_minor": 2
}
